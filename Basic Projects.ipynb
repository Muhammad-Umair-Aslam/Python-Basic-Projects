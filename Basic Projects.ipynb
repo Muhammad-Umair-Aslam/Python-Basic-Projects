{
 "cells": [
  {
   "cell_type": "markdown",
   "metadata": {},
   "source": [
    "## Program that tells when a user will be 100 years old"
   ]
  },
  {
   "cell_type": "code",
   "execution_count": 29,
   "metadata": {},
   "outputs": [
    {
     "name": "stdout",
     "output_type": "stream",
     "text": [
      "Enter your name: a\n",
      "Enter your age: 2\n",
      "a will be 100 years of age in 2118 year\n"
     ]
    }
   ],
   "source": [
    "from datetime import date\n",
    "name= input('Enter your name: ')\n",
    "age= int(input('Enter your age: '))\n",
    "calAge= 100- age\n",
    "dt= str(int(date.today().year) +calAge)\n",
    "print(name+' will be 100 years of age in '+dt +' year')"
   ]
  },
  {
   "cell_type": "markdown",
   "metadata": {},
   "source": [
    "## Odd Or Even"
   ]
  },
  {
   "cell_type": "code",
   "execution_count": 30,
   "metadata": {},
   "outputs": [
    {
     "name": "stdout",
     "output_type": "stream",
     "text": [
      "enter a num: 4\n",
      "enter a num: 2\n",
      "multiple of 4\n",
      "4 divides evenly by 2\n"
     ]
    }
   ],
   "source": [
    "num= int(input('enter a num: '))\n",
    "check= int(input('enter a num: '))\n",
    "if num%4==0:\n",
    "    print('multiple of 4')\n",
    "elif num%2==0:\n",
    "    print('Even')\n",
    "else:\n",
    "    print('Odd')\n",
    "if num%check==0:\n",
    "    print(num, \"divides evenly by\", check)\n",
    "else:\n",
    "    print(num, \"doenn't divides evenly by\", check)"
   ]
  },
  {
   "cell_type": "markdown",
   "metadata": {},
   "source": [
    "## Take input from a user, and program gives the list of number less thean given input"
   ]
  },
  {
   "cell_type": "code",
   "execution_count": 36,
   "metadata": {},
   "outputs": [
    {
     "name": "stdout",
     "output_type": "stream",
     "text": [
      "Enter to find a num: 5\n",
      "5 is in the list\n",
      "[1, 1, 2, 3, 1, 1, 2, 3]\n"
     ]
    }
   ],
   "source": [
    "a = [1, 1, 2, 3, 5, 8, 13, 21, 34, 55, 89]\n",
    "newList=[]\n",
    "for i in a:\n",
    "    if(i<5):\n",
    "        newList.append(i)\n",
    "num= int(input('Enter to find a num: '))\n",
    "for i in a:\n",
    "    if(i==num):\n",
    "        print('{} is in the list'.format(num))\n",
    "        for i in a:\n",
    "            if(i<num):\n",
    "                newList.append(i)\n",
    "print(newList)"
   ]
  },
  {
   "cell_type": "markdown",
   "metadata": {},
   "source": [
    "## Take input from user, and prints all the divisors of that number except 1"
   ]
  },
  {
   "cell_type": "code",
   "execution_count": 41,
   "metadata": {},
   "outputs": [
    {
     "name": "stdout",
     "output_type": "stream",
     "text": [
      "Enter a number: 4\n",
      "[2, 4]\n"
     ]
    }
   ],
   "source": [
    "n= int(input('Enter a number: '))\n",
    "a= list()\n",
    "for i in range(2,n+1):\n",
    "    if(n%i==0):\n",
    "        a.append(i)\n",
    "print(a)\n"
   ]
  },
  {
   "cell_type": "code",
   "execution_count": 42,
   "metadata": {},
   "outputs": [
    {
     "data": {
      "text/plain": [
       "{1, 2, 3, 5, 8, 13}"
      ]
     },
     "execution_count": 42,
     "metadata": {},
     "output_type": "execute_result"
    }
   ],
   "source": [
    "a = set([1, 1, 2, 3, 5, 8, 13, 21, 34, 55, 89])\n",
    "b = set([1, 2, 3, 4, 5, 6, 7, 8, 9, 10, 11, 12, 13])\n",
    "c= a.intersection(b)\n",
    "c   "
   ]
  },
  {
   "cell_type": "markdown",
   "metadata": {},
   "source": [
    "## Whether this string is a palindrome or not?"
   ]
  },
  {
   "cell_type": "code",
   "execution_count": 43,
   "metadata": {},
   "outputs": [
    {
     "name": "stdout",
     "output_type": "stream",
     "text": [
      "Enter a word: lol\n",
      "yes\n"
     ]
    }
   ],
   "source": [
    "## Through loop\n",
    "\n",
    "def reverse(word):\n",
    "    x=''\n",
    "    for i in range(len(word)):\n",
    "        x+=word[len(word)-1-i]\n",
    "    return x\n",
    "word= input('Enter a word: ')\n",
    "if (word== reverse(word)):\n",
    "    print('yes')\n",
    "else:\n",
    "    print('No')"
   ]
  },
  {
   "cell_type": "code",
   "execution_count": 44,
   "metadata": {},
   "outputs": [
    {
     "name": "stdout",
     "output_type": "stream",
     "text": [
      "Enter a word: lol\n",
      "yes\n"
     ]
    }
   ],
   "source": [
    "## Through Indexing\n",
    "word= input('Enter a word: ')\n",
    "rev=''\n",
    "rev+=word[::-1]\n",
    "if word== rev:\n",
    "    print('yes')\n",
    "else:\n",
    "    print('No')"
   ]
  },
  {
   "cell_type": "markdown",
   "metadata": {},
   "source": [
    "## List Comprehensions"
   ]
  },
  {
   "cell_type": "code",
   "execution_count": 45,
   "metadata": {},
   "outputs": [
    {
     "data": {
      "text/plain": [
       "[4, 16, 36, 64, 100]"
      ]
     },
     "execution_count": 45,
     "metadata": {},
     "output_type": "execute_result"
    }
   ],
   "source": [
    "a = [1, 4, 9, 16, 25, 36, 49, 64, 81, 100]\n",
    "b=[i for i in a if i%2==0]\n",
    "b"
   ]
  },
  {
   "cell_type": "markdown",
   "metadata": {},
   "source": [
    "## Rock Paper Scissors"
   ]
  },
  {
   "cell_type": "code",
   "execution_count": 56,
   "metadata": {},
   "outputs": [
    {
     "name": "stdout",
     "output_type": "stream",
     "text": [
      "Enter your name: a\n",
      "choose one from rock, paper and scissor: Scissor\n",
      "Enter your name: b\n",
      "choose one from rock, paper and scissor: Paper\n",
      "Scissor wins\n"
     ]
    }
   ],
   "source": [
    "u1=input('Enter your name: ')\n",
    "u1q=input('choose one from rock, paper and scissor: ')\n",
    "u2=input('Enter your name: ')\n",
    "u2q=input('choose one from rock, paper and scissor: ')\n",
    "def compare(u1,u2):\n",
    "    if(u1.lower()==u2.lower()):\n",
    "        print(\"tie\")\n",
    "    elif(u1.lower()=='rock'):\n",
    "        if(u2.lower()=='scissor'):\n",
    "            print(u1 +\" wins\")\n",
    "        elif(u2.lower()=='paper'):\n",
    "            print(u2 +' wins')\n",
    "        else:\n",
    "            print('invalid input')\n",
    "    elif(u1.lower()=='scissor'):\n",
    "        if(u2.lower()=='paper'):\n",
    "            print(u1 +' wins')\n",
    "        elif(u2.lower()=='rock'):\n",
    "            print(u2 +' wins')\n",
    "        else:\n",
    "            print('invalid input')\n",
    "    elif(u1.lower()=='paper'):\n",
    "        if(u2.lower()=='rock'):\n",
    "            print(u1 +' wins')\n",
    "        elif(u2.lower()=='scissor'):\n",
    "            print(u2 +' wins')\n",
    "        else:\n",
    "            print('invalid input')\n",
    "    \n",
    "compare(u1q,u2q)"
   ]
  },
  {
   "cell_type": "markdown",
   "metadata": {},
   "source": [
    "## Ask the user to guess the number"
   ]
  },
  {
   "cell_type": "code",
   "execution_count": 7,
   "metadata": {},
   "outputs": [
    {
     "name": "stdout",
     "output_type": "stream",
     "text": [
      "Enter a number between 1 and 10: 5\n",
      "Congrats! You accurately guess the right number\n",
      "And it only took you 1 tries!\n"
     ]
    }
   ],
   "source": [
    "import random\n",
    "random.seed(124)\n",
    "a= random.randint(1,11)\n",
    "n=0\n",
    "track=0\n",
    "while n!= 'exit' and n!=a:\n",
    "    n= input('Enter a number between 1 and 10: ')\n",
    "    if(n.lower()=='exit'):\n",
    "        break\n",
    "    n=int(n)\n",
    "    if(n<a):\n",
    "        track+=1\n",
    "        print('Your guess is low')\n",
    "    elif(n>a):\n",
    "        track+=1\n",
    "        print('Your guess is High')\n",
    "    else:\n",
    "        track+=1\n",
    "        print('Congrats! You accurately guess the right number')\n",
    "print('And it only took you {} tries!'.format(track))"
   ]
  },
  {
   "cell_type": "markdown",
   "metadata": {},
   "source": [
    "## Random Password Generator"
   ]
  },
  {
   "cell_type": "code",
   "execution_count": 183,
   "metadata": {},
   "outputs": [
    {
     "data": {
      "text/plain": [
       "'PkkF61!$'"
      ]
     },
     "execution_count": 183,
     "metadata": {},
     "output_type": "execute_result"
    }
   ],
   "source": [
    "import random\n",
    "def shuffle(string):\n",
    "    tempList = list(string)\n",
    "    random.shuffle(tempList)\n",
    "    return ''.join(tempList)\n",
    "\n",
    "uppercaseLetter1=chr(random.randint(65,90)) \n",
    "uppercaseLetter2=chr(random.randint(65,90)) \n",
    "lowercaseLetter1=chr(random.randint(97,122)) \n",
    "lowercaseLetter2=chr(random.randint(97,122)) \n",
    "punctuation1= chr(random.randint(33,47))\n",
    "punctuation2=chr(random.randint(33,47)) \n",
    "digit1=str(random.randint(0,9)) \n",
    "digit2=str(random.randint(0,9))\n",
    "password=uppercaseLetter1+uppercaseLetter2+lowercaseLetter1+lowercaseLetter2+punctuation1+punctuation2+digit1+digit2\n",
    "shuffle(password)"
   ]
  },
  {
   "cell_type": "code",
   "execution_count": null,
   "metadata": {},
   "outputs": [],
   "source": []
  },
  {
   "cell_type": "code",
   "execution_count": null,
   "metadata": {},
   "outputs": [],
   "source": []
  },
  {
   "cell_type": "code",
   "execution_count": null,
   "metadata": {},
   "outputs": [],
   "source": []
  }
 ],
 "metadata": {
  "kernelspec": {
   "display_name": "Python 3",
   "language": "python",
   "name": "python3"
  },
  "language_info": {
   "codemirror_mode": {
    "name": "ipython",
    "version": 3
   },
   "file_extension": ".py",
   "mimetype": "text/x-python",
   "name": "python",
   "nbconvert_exporter": "python",
   "pygments_lexer": "ipython3",
   "version": "3.7.4"
  }
 },
 "nbformat": 4,
 "nbformat_minor": 2
}
